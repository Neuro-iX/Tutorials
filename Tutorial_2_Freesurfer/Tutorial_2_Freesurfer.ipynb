{
 "cells": [
  {
   "cell_type": "markdown",
   "id": "e28fe2f6-e94a-4c7f-8ea8-0a3779334a61",
   "metadata": {},
   "source": [
    "# How to: Set up Freesurfer and learn how to use it\n",
    "\n",
    "**Learning outcomes**\n",
    "\n",
    "0. [Freesurfer overview](#scrollTo=aedebd39-9094-464d-ae38-4c1edf7f611f)\n",
    "1. [Freesurfer installation/build](#scrollTo=605e89f2-33b2-4dba-a2e1-fb35a17b3714)\n",
    "2. [Freesurfer tutorials](#scrollTo=5fda20fb-361e-499c-96f8-728ff6366f0e) "
   ]
  },
  {
   "cell_type": "markdown",
   "id": "aedebd39-9094-464d-ae38-4c1edf7f611f",
   "metadata": {},
   "source": [
    "<a id='scrollTo=aedebd39-9094-464d-ae38-4c1edf7f611f'></a>\n",
    "## 0. Freesurfer overview\n",
    "- **Overview:** \\\n",
    "https://surfer.nmr.mgh.harvard.edu/fswiki/FreeSurferAnalysisPipelineOverview\n",
    "\n",
    "- **recon-all description (main function, last edited 2017-12-08):** \\\n",
    "https://surfer.nmr.mgh.harvard.edu/fswiki/recon-all\n",
    "\n",
    "- **recon-all description table (version 7.1, last edited 2020-12-14):** \\\n",
    "https://surfer.nmr.mgh.harvard.edu/fswiki/ReconAllTableStableV6.0"
   ]
  },
  {
   "cell_type": "markdown",
   "id": "605e89f2-33b2-4dba-a2e1-fb35a17b3714",
   "metadata": {},
   "source": [
    "<a id='scrollTo=605e89f2-33b2-4dba-a2e1-fb35a17b3714'></a>\n",
    "## 1. Freesurfer installation/build\n",
    "- **If you are on Windows, you can install a Linux virtual machine:** \\\n",
    "See section 4 of [**New member's guidebook**](https://colab.research.google.com/github/Neuro-iX/Tutorials/blob/main/Tutorial_1_NewMember/Tutorial_1_NewMember.ipynb)\n",
    "\n",
    "- **Install Freesurfer 7.X (macOS or Linux OS):** \\\n",
    "https://surfer.nmr.mgh.harvard.edu/fswiki/rel7downloads \\\n",
    "Check your OS version using:\n",
    "```bash\n",
    "cat /etc/os-release\n",
    "```\n",
    "If you are not root user (`sudo -v`), install tar file in `$HOME` directory.\n",
    "If FreeSurfer doesn't work properly after installation, you might have to ask Benoit or Sylvain to install it in `/usr/local` instead of `$HOME` (sudoers).\n",
    "\n",
    "- **Alternatively (ONLY if you want to change the code), build Freesurfer from source code on Github :** \\\n",
    "https://surfer.nmr.mgh.harvard.edu/fswiki/BuildGuide\n",
    "\n",
    "- **Setup Freesurfer:** \\\n",
    "https://surfer.nmr.mgh.harvard.edu/fswiki/SetupConfiguration \\\n",
    "Get your **license.txt** to put into your local **freesurfer** folder: \\\n",
    "https://surfer.nmr.mgh.harvard.edu/registration.html \\\n",
    "Then, source Freesurfer automatically when opening a  new terminal:\n",
    "```bash\n",
    "nano ~/.bashrc #Open the hidden file ~/.bashrc using nano editor\n",
    "# Ctrl + w + v #Get at the end\n",
    "```\n",
    "\n",
    "Copy this two lines:\n",
    "```javascript\n",
    "export FREESURFER_HOME=/usr/local/freesurfer\n",
    "source $FREESURFER_HOME/SetUpFreeSurfer.sh\n",
    "```\n",
    "\n",
    "```bash\n",
    "# Right click > Paste\n",
    "# Ctrl + o > Enter #Save changes\n",
    "# Ctrl + x #Quit nano\n",
    "source ~/.profile #Update your terminal\n",
    "cd ~/Documents #Go to your working directory (wd)\n",
    "export SUBJECTS_DIR=`pwd` #Change freesurfer output file path\n",
    "echo $SUBJECTS_DIR #Check the change\n",
    "```\n",
    "\n",
    "- **Test Freesurfer installation:** \\\n",
    "https://surfer.nmr.mgh.harvard.edu/fswiki/TestingFreeSurfer"
   ]
  },
  {
   "cell_type": "markdown",
   "id": "5fda20fb-361e-499c-96f8-728ff6366f0e",
   "metadata": {},
   "source": [
    "<a id='scrollTo=5fda20fb-361e-499c-96f8-728ff6366f0e'></a>\n",
    "## 2. Freesurfer tutorials\n",
    "\n",
    "- **Basic tutorials:** \\\n",
    "https://surfer.nmr.mgh.harvard.edu/fswiki/FsTutorial/OutputData_freeview \\\n",
    "https://www.youtube.com/watch?v=6wxJ1up-E7E\n",
    "\n",
    "- **Datasets:** \\\n",
    "https://github.com/HOA-2/SubcorticalParcellations \\\n",
    "https://nda.nih.gov/general-query.html?q=query=featured-datasets:Connectomes%20Related%20to%20Human%20Disease"
   ]
  },
  {
   "cell_type": "markdown",
   "id": "7fb16533-cd0c-4e9f-bcf7-789b0ebe55ed",
   "metadata": {},
   "source": [
    "<a id='scrollTo=5fda20fb-361e-499c-96f8-728ff6366f0e'></a>\n",
    "## 3. Fastsurfer tutorials\n",
    "### a) Fastsurfer overview\n",
    "FastSurfer is  a fast and accurate deep-learning based neuroimaging pipeline.  \\\n",
    "FastSurfer provides a fully compatible FreeSurfer alternative for volumetric analysis (within minutes) and surface-based thickness analysis (within only around 1h run time).  \\\n",
    "FastSurfer is transitioning to sub-millimeter resolution support throughout the pipeline.\n",
    "\n",
    "- **Documentation:** https://github.com/Deep-MI/FastSurfer\n",
    "- \n",
    "- **How to use it on Narval:** "
   ]
  },
  {
   "cell_type": "markdown",
   "id": "865bef2e-b003-4a92-9e94-3dba1c9f5f53",
   "metadata": {},
   "source": [
    "### b) Optional flags\n",
    "- **Segmentation pipeline arguments (optional)** \\\n",
    "    --seg_only: only run FastSurferCNN (generate segmentation, do not run the surface pipeline) \\\n",
    "    --seg_log: Name and location for the log-file for the segmentation (FastSurferCNN). Default:  SUBJECTS_DIR/sid/scripts/deep-seg.log \\\n",
    "    --viewagg_device: Define where the view aggregation should be run on. Can be \"auto\" or a device (see --device). By default, the program checks if you have enough memory to run the view aggregation on the gpu. The total memory is considered for this decision. If this fails, or you actively overwrote the check with setting with \"cpu\" view agg is run on the cpu. Equivalently, if you pass a different device, view agg will be run on that device (no memory check will be done). \\\n",
    "    --device: Select device for NN segmentation (auto, cpu, cuda, cuda:<device_num>, mps), where cuda means Nvidia GPU, you can select which one e.g. \"cuda:1\". Default: \"auto\", check GPU and then CPU. \"mps\" is for native MAC installs to use the Apple silicon (M-chip) GPU. \\\n",
    "    --asegdkt_segfile: Name of the segmentation file, which includes the aparc+DKTatlas-aseg segmentations. Requires an ABSOLUTE Path! Default location: SUBJECTS_DIR/sid/mri/aparc.DKTatlas+aseg.deep.mgz \\\n",
    "    --no_cereb: Switch of the cerebellum sub-segmentation \\\n",
    "    --cereb_segfile: Name of the cerebellum segmentation file. If not provided, this intermediate DL-based segmentation will not be stored, but only the merged segmentation will be stored (see --main_segfile ). Requires an ABSOLUTE Path! Default location: SUBJECTS_DIR/sid/mri/cerebellum.CerebNet.nii.gz \\\n",
    "    --no_biasfield: Deactivate the calculation of partial volume-corrected statistics.\n",
    "\n",
    "- **Surface pipeline arguments (optional)** \\\n",
    "    --surf_only: only run the surface pipeline recon_surf. The segmentation created by FastSurferCNN must already exist in this case. \\\n",
    "    --3T: for Talairach registration, use the 3T atlas instead of the 1.5T atlas (which is used if the flag is not provided). This gives better (more consistent with FreeSurfer) ICV estimates (eTIV) for 3T and better Talairach registration matrices, but has little impact on standard volume or surface stats. \\\n",
    "    --fstess: Use mri_tesselate instead of marching cube (default) for surface creation \\\n",
    "    --fsqsphere: Use FreeSurfer default instead of novel spectral spherical projection for qsphere \\\n",
    "    --fsaparc: Use FS aparc segmentations in addition to DL prediction (slower in this case and usually the mapped ones from the DL prediction are fine) \\\n",
    "    --parallel: Run both hemispheres in parallel \\\n",
    "    --no_fs_T1: Do not generate T1.mgz (normalized nu.mgz included in standard FreeSurfer output) and create brainmask.mgz directly from norm.mgz instead. Saves 1:30 min. \\\n",
    "    --no_surfreg: Skip the surface registration (sphere.reg), which is generated automatically by default. To safe time, use this flag to turn this off.\n",
    "\n",
    "- **Other** \\\n",
    "    --threads: Target number of threads for all modules (segmentation, surface pipeline), 1 (default) forces FastSurfer to only really use one core. Note, that the default value may change in the future for better performance on multi-core architectures. \\\n",
    "    --vox_size: Forces processing at a specific voxel size. If a number between 0.7 and 1 is specified (below is experimental) the T1w image is conformed to that isotropic voxel size and processed. If \"min\" is specified (default), the voxel size is read from the size of the minimal voxel size (smallest per-direction voxel size) in the T1w image: If the minimal voxel size is bigger than 0.98mm, the image is conformed to 1mm isometric. If the minimal voxel size is smaller or equal to 0.98mm, the T1w image will be conformed to isometric voxels of that voxel size. The voxel size (whether set manually or derived) determines whether the surfaces are processed with highres options (below 1mm) or not. \\\n",
    "    --py: Command for python, used in both pipelines. Default: python3.10 \\\n",
    "    --conformed_name: Name of the file in which the conformed input image will be saved. Default location: SUBJECTS_DIR/sid/mri/orig.mgz \\\n",
    "    --ignore_fs_version: Switch on to avoid check for FreeSurfer version. Program will terminate if the supported version (see recon-surf.sh) is not sourced. Can be used for testing dev versions. \\\n",
    "    -h, --help: Prints help text\n",
    "  \n",
    "- **Documentation:** https://github.com/Deep-MI/FastSurfer"
   ]
  },
  {
   "cell_type": "code",
   "execution_count": null,
   "id": "3ecd4bb7-cb77-43e0-b465-506c50011317",
   "metadata": {},
   "outputs": [],
   "source": []
  }
 ],
 "metadata": {
  "kernelspec": {
   "display_name": "Python 3 (ipykernel)",
   "language": "python",
   "name": "python3"
  },
  "language_info": {
   "codemirror_mode": {
    "name": "ipython",
    "version": 3
   },
   "file_extension": ".py",
   "mimetype": "text/x-python",
   "name": "python",
   "nbconvert_exporter": "python",
   "pygments_lexer": "ipython3",
   "version": "3.11.4"
  }
 },
 "nbformat": 4,
 "nbformat_minor": 5
}
