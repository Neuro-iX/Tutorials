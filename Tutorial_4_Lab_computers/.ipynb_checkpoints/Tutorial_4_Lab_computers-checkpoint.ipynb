{
 "cells": [
  {
   "cell_type": "markdown",
   "id": "3878214a-46d8-4b2c-b21b-ebbc175a59dc",
   "metadata": {},
   "source": [
    "# How to: Understand Lab computers setup\n",
    "\n",
    "**Learning outcomes**\n",
    "\n",
    "0. [Structure of office computers](#scrollTo=d63a5d22-ae7f-4a34-b349-602134bab11d)\n",
    "1. [List of softwares installed on Miller](#scrollTo=be524736-3944-4376-b03c-6b85ffb0eb3e)"
   ]
  },
  {
   "cell_type": "markdown",
   "id": "d63a5d22-ae7f-4a34-b349-602134bab11d",
   "metadata": {
    "jp-MarkdownHeadingCollapsed": true
   },
   "source": [
    "<a id='scrollTo=d63a5d22-ae7f-4a34-b349-602134bab11d'></a>\n",
    "## 0. Structure of office computers\n",
    "* **Labs:** \\\n",
    "Our brand new lab is **A-3434**. \\\n",
    "A local server is on the way, and computers heating issues could be addressed by putting them in the server room. \\\n",
    "We still have access to the lab of Hervé Lombaert (access to Miller server): **A-3413**.\n",
    "\n",
    "\n",
    "* **A-3413 (previous lab):** \\\n",
    "There are currently **three usable office computers** available: post 2, 4 and 6. \\\n",
    "The operating system is based on Ubuntu 22 LTS. \\\n",
    "Each computer has a **Nvidia RTX A-4000 GPU**. \\\n",
    "Also, there are **up to two different and separate sessions** by member: **local** and **Miller server**.\n",
    "\n",
    "   - **Local:** \\\n",
    "    The `<username>` are `at90180@ens.ad.etsmtl.ca`(Sadaf), `at70870@ens.ad.etsmtl.ca` (Charles), and `at83760@ens.ad.etsmtl.ca` (Kaveh).  \\\n",
    "    `/home/<username>` is the **home directory** (`echo $HOME`). \\\n",
    "    Sylvain Bouix and Benoît Verreman have **root privileges**, and the other lab's members don't.\n",
    "\n",
    "   - **Miller server:** \\\n",
    "    The `<username>` are `at90180`(Sadaf), `at70870` (Charles), and `at83760` (Kaveh). \\\n",
    "    You can switch to your other session by using **`su <username_other_session>`**.  \\\n",
    "    You may have to do **`cd $HOME`** and **`source $HOME/.bashrc`**.  \\\n",
    "    Each member is part of the group **neuro**. \\\n",
    "    As such, they have access to **14.54 To** of shared memory with **no backup** and **no quota per folder and per user**. \\\n",
    "    `/home/ens/<username>` is the **home directory** (`echo $HOME`) for students and RA. \\\n",
    "    `/home/etsmtl/<username>` is for employees. \\\n",
    "    `/project/Neuro-IX` is shared and composed of three folders: \\\n",
    "    `data` in read-only mode for users, and `software` and `subprojects` in full-rights access for users.  \\\n",
    "    Use the commands `ll`, `ls -la` and `df -h` to get informations about the rights and the groups.  \\\n",
    "    Use `bash /project/Neuro-IX/software/env/setup_bashrc.sh` to add the sourcing of `/project/Neuro-IX/software/env/Neuro_iX_bashrc.sh` in `$HOME/.bashrc` script.\n",
    "\n",
    "   - **Web browser:** \\\n",
    "    The default web browser is `firefox`. \\\n",
    "    Alternatively, you can use `google-chrome`. \\\n",
    "    Sometimes, you need to ask for `sudo rm /home/ens/<username>/.config/google-chrome/SingletonLock`.\n",
    "\n",
    "   - **IP addresses in A-3413:** \\\n",
    "    Temporary file server: milner.logti.etsmtl.ca, 10.194.16.255  \\\n",
    "    Sadaf (office n°2): `at90180`, logti049439l.ens.ad.etsmtl.ca, 10.180.113.168  \\\n",
    "    Kaveh (office n°4): `at83760`, logti049515l.ens.ad.etsmtl.ca, (issues with conection)  \\\n",
    "    Charles (office n°6): `at70870`, logti049164l.ens.ad.etsmtl.ca, 10.180.113.166\n",
    "\n",
    "* **A-3434 (new lab):** \\\n",
    "CPU: Xeon GOLD 5218R 20 cores 2.1 Ghz  \\\n",
    "RAM: 128G \\\n",
    "HDD: 4T SSD \\\n",
    "GPU: 2x NVIDIA RTX6000 48G\n",
    "\n",
    "    - **IP addresses in A-3434:** \\\n",
    "    File server: ?  \\\n",
    "    Benoît (office n°1): username: `bverreman`, FQDN: logti053235l, IP: 10.180.169.71 \\\n",
    "    Kaveh (office n°2): `at83760`, logti049515l.ens.ad.etsmtl.ca, 10.180.169.72  \\\n",
    "    Charles (office n°3): `at70870`, logti049164l.ens.ad.etsmtl.ca, 10.180.169.70 \\\n",
    "    Ghazal (office n°6): `at84490`, logti053234l.ens.ad.etsmtl.ca, 10.180.169.68  \\\n",
    "    Sadaf (office n°8): `at90180`, logti049439l.ens.ad.etsmtl.ca, 10.180.169.69\n",
    "\n",
    "![Plan lab](plan_lab.png)\n",
    "\n"
   ]
  },
  {
   "cell_type": "markdown",
   "id": "be524736-3944-4376-b03c-6b85ffb0eb3e",
   "metadata": {},
   "source": [
    "<a id='scrollTo=be524736-3944-4376-b03c-6b85ffb0eb3e'></a>\n",
    "## 1. List of softwares installed on Miller\n"
   ]
  },
  {
   "cell_type": "markdown",
   "id": "3514be72-6dff-4189-8626-814b203777a9",
   "metadata": {},
   "source": [
    "- **Freesurfer** \\\n",
    "Versions 7.3.2 and 7.4.1 (default)\n",
    "\n",
    "- **FastSurfer** \\\n",
    "Version 15-12-2023\n",
    "\n",
    "- **Slicer** \\\n",
    "Version 5.6.1\n",
    "\n",
    "- **FSL** \\\n",
    "Version 6.0.7.6\n",
    "\n",
    "- **Miniconda** \\\n",
    "Version 23.9.0\n",
    "\n",
    "- **Anydesk** \\\n",
    "You have to set a password using a command line:\n",
    "```bash\n",
    "sudo echo \"my_password\" | anydesk --set-password\n",
    "```"
   ]
  },
  {
   "cell_type": "code",
   "execution_count": null,
   "id": "f2100788-09bc-4194-91a6-ff759c4b7ade",
   "metadata": {},
   "outputs": [],
   "source": []
  }
 ],
 "metadata": {
  "kernelspec": {
   "display_name": "Python 3 (ipykernel)",
   "language": "python",
   "name": "python3"
  },
  "language_info": {
   "codemirror_mode": {
    "name": "ipython",
    "version": 3
   },
   "file_extension": ".py",
   "mimetype": "text/x-python",
   "name": "python",
   "nbconvert_exporter": "python",
   "pygments_lexer": "ipython3",
   "version": "3.11.4"
  }
 },
 "nbformat": 4,
 "nbformat_minor": 5
}
