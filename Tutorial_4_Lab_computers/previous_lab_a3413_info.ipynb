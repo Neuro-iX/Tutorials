{
 "cells": [
  {
   "cell_type": "markdown",
   "id": "6d0d3eb1-423f-477d-9624-7183d45fdc81",
   "metadata": {},
   "source": [
    "* **A-3413 (previous lab):** \\\n",
    "There are currently **three usable office computers** available: post 2, 4 and 6. \\\n",
    "The operating system is based on Ubuntu 22 LTS. \\\n",
    "Each computer has a **Nvidia RTX A-4000 GPU**. \\\n",
    "Also, there are **up to two different and separate sessions** by member: **local** and **Miller server**.\n",
    "\n",
    "   - **Local:** \\\n",
    "    The `<username>` are `at90180@ens.ad.etsmtl.ca`(Sadaf), `at70870@ens.ad.etsmtl.ca` (Charles), and `at83760@ens.ad.etsmtl.ca` (Kaveh).  \\\n",
    "    `/home/<username>` is the **home directory** (`echo $HOME`). \\\n",
    "    Sylvain Bouix and Benoît Verreman have **root privileges**, and the other lab's members don't.\n",
    "\n",
    "   - **Miller server:** \\\n",
    "    The `<username>` are `at90180`(Sadaf), `at70870` (Charles), and `at83760` (Kaveh). \\\n",
    "    You can switch to your other session by using **`su <username_other_session>`**.  \\\n",
    "    You may have to do **`cd $HOME`** and **`source $HOME/.bashrc`**.  \\\n",
    "    Each member is part of the group **neuro**. \\\n",
    "    As such, they have access to **14.54 To** of shared memory with **no backup** and **no quota per folder and per user**. \\\n",
    "    `/home/ens/<username>` is the **home directory** (`echo $HOME`) for students and RA. \\\n",
    "    `/home/etsmtl/<username>` is for employees. \\\n",
    "    `/project/Neuro-IX` is shared and composed of three folders: \\\n",
    "    `data` in read-only mode for users, and `software` and `subprojects` in full-rights access for users.  \\\n",
    "    Use the commands `ll`, `ls -la` and `df -h` to get informations about the rights and the groups.  \\\n",
    "    Use `bash /project/Neuro-IX/software/env/setup_bashrc.sh` to add the sourcing of `/project/Neuro-IX/software/env/Neuro_iX_bashrc.sh` in `$HOME/.bashrc` script.\n",
    "\n",
    "   - **Web browser:** \\\n",
    "    The default web browser is `firefox`. \\\n",
    "    Alternatively, you can use `google-chrome`. \\\n",
    "    Sometimes, you need to ask for `sudo rm /home/ens/<username>/.config/google-chrome/SingletonLock`.\n",
    "\n",
    "   - **IP addresses in A-3413:** \\\n",
    "    Temporary file server: milner.logti.etsmtl.ca, 10.194.16.255  \\\n",
    "    Sadaf (office n°2): `at90180`, logti049439l.ens.ad.etsmtl.ca, 10.180.113.168  \\\n",
    "    Kaveh (office n°4): `at83760`, logti049515l.ens.ad.etsmtl.ca, 10.180.112.140  \\\n",
    "    Charles (office n°6): `at70870`, logti049164l.ens.ad.etsmtl.ca, 10.180.113.166"
   ]
  },
  {
   "cell_type": "code",
   "execution_count": null,
   "id": "53f2b064-1deb-4907-a837-c634e10cfe62",
   "metadata": {},
   "outputs": [],
   "source": []
  }
 ],
 "metadata": {
  "kernelspec": {
   "display_name": "Python 3 (ipykernel)",
   "language": "python",
   "name": "python3"
  },
  "language_info": {
   "codemirror_mode": {
    "name": "ipython",
    "version": 3
   },
   "file_extension": ".py",
   "mimetype": "text/x-python",
   "name": "python",
   "nbconvert_exporter": "python",
   "pygments_lexer": "ipython3",
   "version": "3.11.4"
  }
 },
 "nbformat": 4,
 "nbformat_minor": 5
}
