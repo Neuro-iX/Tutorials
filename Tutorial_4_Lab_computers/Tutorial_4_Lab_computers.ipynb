{
 "cells": [
  {
   "cell_type": "markdown",
   "id": "3878214a-46d8-4b2c-b21b-ebbc175a59dc",
   "metadata": {},
   "source": [
    "# How to: Understand Lab computers setup\n",
    "\n",
    "**Learning outcomes**\n",
    "\n",
    "0. [Structure of office computers](#scrollTo=d63a5d22-ae7f-4a34-b349-602134bab11d)\n",
    "1. [List of softwares installed](#scrollTo=be524736-3944-4376-b03c-6b85ffb0eb3e)"
   ]
  },
  {
   "cell_type": "markdown",
   "id": "d63a5d22-ae7f-4a34-b349-602134bab11d",
   "metadata": {},
   "source": [
    "<a id='scrollTo=d63a5d22-ae7f-4a34-b349-602134bab11d'></a>\n",
    "## 0. Structure of office computers\n",
    "- **Labs:** \\\n",
    "Presently, we are using the lab **A-3413** from Hervé Lombaert temporarily. \\\n",
    "In November 2023, the new computers in **A-3434** should be setup and ready to use. \\\n",
    "A future step (in 2024 or later), will be to put those computers in a remote server room, to avoid too much **heat** in the lab.\n",
    "\n",
    "- **Overall structure:** \\\n",
    "There are currently **three usable office computers** available in A-3413: post 2, 4 and 6. \\\n",
    "The operating system is based on Ubuntu 22 LTS. \\\n",
    "Each computer has a **Nvidia RTX A-4000 GPU**. \\\n",
    "Also, there are **up to two different and separate sessions** by member: **local** and **Miller server** (default).\n",
    "\n",
    "- **Local:** \\\n",
    "Sylvain Bouix and Benoît Verreman have **root privileges**, and the other lab's members don't. \\\n",
    "`/home/<username>` is the **home directory** (`echo $HOME`).\n",
    "\n",
    "- **Miller server:** \\\n",
    "Each member is part of the group **neuro**. \\\n",
    "As such, they have access to **14 To** of shared memory with **no backup** and **no quota per folder and per user**. \\\n",
    "`/home/ens/<username>` is the **home directory** (`echo $HOME`) for students and RA. \\\n",
    "`/home/etsmtl/<username>` is for employees. \\\n",
    "`/project/Neuro-IX` is shared and composed of three folders: \\\n",
    "`data` in read-only mode for users, and `software` and `subprojects` in full-rights access for users.  \\\n",
    "Use the commands `ll`, `ls -la` and `df -h` to get informations about the rights and the groups.\n",
    "\n"
   ]
  },
  {
   "cell_type": "markdown",
   "id": "be524736-3944-4376-b03c-6b85ffb0eb3e",
   "metadata": {},
   "source": [
    "<a id='scrollTo=be524736-3944-4376-b03c-6b85ffb0eb3e'></a>\n",
    "## 1. List of softwares installed\n"
   ]
  },
  {
   "cell_type": "code",
   "execution_count": null,
   "id": "c12be31d-73cb-40f3-947d-63859f36853b",
   "metadata": {},
   "outputs": [],
   "source": []
  }
 ],
 "metadata": {
  "kernelspec": {
   "display_name": "Python 3 (ipykernel)",
   "language": "python",
   "name": "python3"
  },
  "language_info": {
   "codemirror_mode": {
    "name": "ipython",
    "version": 3
   },
   "file_extension": ".py",
   "mimetype": "text/x-python",
   "name": "python",
   "nbconvert_exporter": "python",
   "pygments_lexer": "ipython3",
   "version": "3.11.5"
  }
 },
 "nbformat": 4,
 "nbformat_minor": 5
}
